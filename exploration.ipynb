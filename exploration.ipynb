{
 "cells": [
  {
   "cell_type": "code",
   "execution_count": 8,
   "metadata": {},
   "outputs": [
    {
     "name": "stdout",
     "output_type": "stream",
     "text": [
      "                           Title Release Date                    Developer  \\\n",
      "0                Ziggurat (2012)    2/17/2012  Action Button Entertainment   \n",
      "1                      4X4 EVO 2   11/15/2001             Terminal Reality   \n",
      "2                MotoGP 2 (2001)    1/22/2002                        Namco   \n",
      "3                       Gothic 3   11/14/2006                Piranha Bytes   \n",
      "4  Siege Survival: Gloria Victis    5/18/2021               FishTankStudio   \n",
      "\n",
      "         Publisher           Genres        Product Rating  User Score  \\\n",
      "0     Freshuu Inc.           Action                   NaN         6.9   \n",
      "1        Gathering  Auto Racing Sim  Rated E For Everyone         NaN   \n",
      "2            Namco  Auto Racing Sim  Rated E For Everyone         5.8   \n",
      "3            Aspyr      Western RPG      Rated T For Teen         7.5   \n",
      "4  Black Eye Games              RPG                   NaN         6.5   \n",
      "\n",
      "   User Ratings Count                                     Platforms Info  \n",
      "0                14.0  [{'Platform': 'iOS (iPhone/iPad)', 'Platform M...  \n",
      "1                 NaN  [{'Platform': 'Xbox', 'Platform Metascore': '5...  \n",
      "2                 NaN  [{'Platform': 'PlayStation 2', 'Platform Metas...  \n",
      "3               832.0  [{'Platform': 'PC', 'Platform Metascore': '63'...  \n",
      "4                10.0  [{'Platform': 'PC', 'Platform Metascore': '69'...  \n",
      "User Score\n",
      "7.8     450\n",
      "7.5     447\n",
      "8.0     420\n",
      "7.0     413\n",
      "7.4     405\n",
      "       ... \n",
      "9.8       1\n",
      "0.6       1\n",
      "10.0      1\n",
      "1.1       1\n",
      "0.7       1\n",
      "Name: count, Length: 96, dtype: int64\n"
     ]
    },
    {
     "ename": "KeyError",
     "evalue": "'description'",
     "output_type": "error",
     "traceback": [
      "\u001b[1;31m---------------------------------------------------------------------------\u001b[0m",
      "\u001b[1;31mKeyError\u001b[0m                                  Traceback (most recent call last)",
      "File \u001b[1;32mc:\\Users\\rogue\\Desktop\\projects\\video-game-recommender\\.venv\\Lib\\site-packages\\pandas\\core\\indexes\\base.py:3805\u001b[0m, in \u001b[0;36mIndex.get_loc\u001b[1;34m(self, key)\u001b[0m\n\u001b[0;32m   3804\u001b[0m \u001b[38;5;28;01mtry\u001b[39;00m:\n\u001b[1;32m-> 3805\u001b[0m     \u001b[38;5;28;01mreturn\u001b[39;00m \u001b[38;5;28;43mself\u001b[39;49m\u001b[38;5;241;43m.\u001b[39;49m\u001b[43m_engine\u001b[49m\u001b[38;5;241;43m.\u001b[39;49m\u001b[43mget_loc\u001b[49m\u001b[43m(\u001b[49m\u001b[43mcasted_key\u001b[49m\u001b[43m)\u001b[49m\n\u001b[0;32m   3806\u001b[0m \u001b[38;5;28;01mexcept\u001b[39;00m \u001b[38;5;167;01mKeyError\u001b[39;00m \u001b[38;5;28;01mas\u001b[39;00m err:\n",
      "File \u001b[1;32mindex.pyx:167\u001b[0m, in \u001b[0;36mpandas._libs.index.IndexEngine.get_loc\u001b[1;34m()\u001b[0m\n",
      "File \u001b[1;32mindex.pyx:196\u001b[0m, in \u001b[0;36mpandas._libs.index.IndexEngine.get_loc\u001b[1;34m()\u001b[0m\n",
      "File \u001b[1;32mpandas\\\\_libs\\\\hashtable_class_helper.pxi:7081\u001b[0m, in \u001b[0;36mpandas._libs.hashtable.PyObjectHashTable.get_item\u001b[1;34m()\u001b[0m\n",
      "File \u001b[1;32mpandas\\\\_libs\\\\hashtable_class_helper.pxi:7089\u001b[0m, in \u001b[0;36mpandas._libs.hashtable.PyObjectHashTable.get_item\u001b[1;34m()\u001b[0m\n",
      "\u001b[1;31mKeyError\u001b[0m: 'description'",
      "\nThe above exception was the direct cause of the following exception:\n",
      "\u001b[1;31mKeyError\u001b[0m                                  Traceback (most recent call last)",
      "Cell \u001b[1;32mIn[8], line 22\u001b[0m\n\u001b[0;32m     19\u001b[0m     \u001b[38;5;28mprint\u001b[39m(\u001b[38;5;124m\"\u001b[39m\u001b[38;5;124m'\u001b[39m\u001b[38;5;124muser_score\u001b[39m\u001b[38;5;124m'\u001b[39m\u001b[38;5;124m column does not exist in the dataframe.\u001b[39m\u001b[38;5;124m\"\u001b[39m)\n\u001b[0;32m     21\u001b[0m \u001b[38;5;66;03m# Extract TF-IDF features from game descriptions\u001b[39;00m\n\u001b[1;32m---> 22\u001b[0m tfidf_features, tfidf_vectorizer \u001b[38;5;241m=\u001b[39m extract_tfidf_features(\u001b[43mdf\u001b[49m\u001b[43m[\u001b[49m\u001b[38;5;124;43m'\u001b[39;49m\u001b[38;5;124;43mdescription\u001b[39;49m\u001b[38;5;124;43m'\u001b[39;49m\u001b[43m]\u001b[49m)\n\u001b[0;32m     24\u001b[0m \u001b[38;5;66;03m# One-hot encode genres and platforms\u001b[39;00m\n\u001b[0;32m     25\u001b[0m encoded_genres \u001b[38;5;241m=\u001b[39m one_hot_encode_features(df, \u001b[38;5;124m'\u001b[39m\u001b[38;5;124mgenre\u001b[39m\u001b[38;5;124m'\u001b[39m)\n",
      "File \u001b[1;32mc:\\Users\\rogue\\Desktop\\projects\\video-game-recommender\\.venv\\Lib\\site-packages\\pandas\\core\\frame.py:4102\u001b[0m, in \u001b[0;36mDataFrame.__getitem__\u001b[1;34m(self, key)\u001b[0m\n\u001b[0;32m   4100\u001b[0m \u001b[38;5;28;01mif\u001b[39;00m \u001b[38;5;28mself\u001b[39m\u001b[38;5;241m.\u001b[39mcolumns\u001b[38;5;241m.\u001b[39mnlevels \u001b[38;5;241m>\u001b[39m \u001b[38;5;241m1\u001b[39m:\n\u001b[0;32m   4101\u001b[0m     \u001b[38;5;28;01mreturn\u001b[39;00m \u001b[38;5;28mself\u001b[39m\u001b[38;5;241m.\u001b[39m_getitem_multilevel(key)\n\u001b[1;32m-> 4102\u001b[0m indexer \u001b[38;5;241m=\u001b[39m \u001b[38;5;28;43mself\u001b[39;49m\u001b[38;5;241;43m.\u001b[39;49m\u001b[43mcolumns\u001b[49m\u001b[38;5;241;43m.\u001b[39;49m\u001b[43mget_loc\u001b[49m\u001b[43m(\u001b[49m\u001b[43mkey\u001b[49m\u001b[43m)\u001b[49m\n\u001b[0;32m   4103\u001b[0m \u001b[38;5;28;01mif\u001b[39;00m is_integer(indexer):\n\u001b[0;32m   4104\u001b[0m     indexer \u001b[38;5;241m=\u001b[39m [indexer]\n",
      "File \u001b[1;32mc:\\Users\\rogue\\Desktop\\projects\\video-game-recommender\\.venv\\Lib\\site-packages\\pandas\\core\\indexes\\base.py:3812\u001b[0m, in \u001b[0;36mIndex.get_loc\u001b[1;34m(self, key)\u001b[0m\n\u001b[0;32m   3807\u001b[0m     \u001b[38;5;28;01mif\u001b[39;00m \u001b[38;5;28misinstance\u001b[39m(casted_key, \u001b[38;5;28mslice\u001b[39m) \u001b[38;5;129;01mor\u001b[39;00m (\n\u001b[0;32m   3808\u001b[0m         \u001b[38;5;28misinstance\u001b[39m(casted_key, abc\u001b[38;5;241m.\u001b[39mIterable)\n\u001b[0;32m   3809\u001b[0m         \u001b[38;5;129;01mand\u001b[39;00m \u001b[38;5;28many\u001b[39m(\u001b[38;5;28misinstance\u001b[39m(x, \u001b[38;5;28mslice\u001b[39m) \u001b[38;5;28;01mfor\u001b[39;00m x \u001b[38;5;129;01min\u001b[39;00m casted_key)\n\u001b[0;32m   3810\u001b[0m     ):\n\u001b[0;32m   3811\u001b[0m         \u001b[38;5;28;01mraise\u001b[39;00m InvalidIndexError(key)\n\u001b[1;32m-> 3812\u001b[0m     \u001b[38;5;28;01mraise\u001b[39;00m \u001b[38;5;167;01mKeyError\u001b[39;00m(key) \u001b[38;5;28;01mfrom\u001b[39;00m \u001b[38;5;21;01merr\u001b[39;00m\n\u001b[0;32m   3813\u001b[0m \u001b[38;5;28;01mexcept\u001b[39;00m \u001b[38;5;167;01mTypeError\u001b[39;00m:\n\u001b[0;32m   3814\u001b[0m     \u001b[38;5;66;03m# If we have a listlike key, _check_indexing_error will raise\u001b[39;00m\n\u001b[0;32m   3815\u001b[0m     \u001b[38;5;66;03m#  InvalidIndexError. Otherwise we fall through and re-raise\u001b[39;00m\n\u001b[0;32m   3816\u001b[0m     \u001b[38;5;66;03m#  the TypeError.\u001b[39;00m\n\u001b[0;32m   3817\u001b[0m     \u001b[38;5;28mself\u001b[39m\u001b[38;5;241m.\u001b[39m_check_indexing_error(key)\n",
      "\u001b[1;31mKeyError\u001b[0m: 'description'"
     ]
    }
   ],
   "source": [
    "import pandas as pd\n",
    "from src.data_preprocessing import preprocess_data\n",
    "from src.feature_extraction import extract_tfidf_features, one_hot_encode_features\n",
    "from src.collaborative_filtering import create_user_item_matrix, compute_similarity, recommend_items\n",
    "\n",
    "# Load the dataset\n",
    "file_path = 'data/video_games.csv'\n",
    "df = pd.read_csv(file_path)\n",
    "\n",
    "# Display the first few rows of the dataframe\n",
    "print(df.head())\n",
    "\n",
    "# Display basic information about the dataset\n",
    "# Check if 'user_score' column exists in the dataframe\n",
    "if 'User Score' in df.columns:\n",
    "    # Display the distribution of ratings\n",
    "    print(df['User Score'].value_counts())\n",
    "else:\n",
    "    print(\"'user_score' column does not exist in the dataframe.\")\n",
    "\n",
    "# Extract TF-IDF features from game descriptions\n",
    "# tfidf_features, tfidf_vectorizer = extract_tfidf_features(df['description'])\n",
    "\n",
    "# One-hot encode genres and platforms\n",
    "encoded_genres = one_hot_encode_features(df, 'Genres')\n",
    "encoded_platforms = one_hot_encode_features(df, 'Platforms Info')\n",
    "\n",
    "# Combine all features into a single DataFrame\n",
    "combined_features = pd.concat([encoded_genres, encoded_platforms], axis=1)\n",
    "\n",
    "# Display the combined features\n",
    "print(combined_features.head())\n",
    "\n",
    "# Create user-item matrix for collaborative filtering\n",
    "user_item_matrix = create_user_item_matrix(df, 'User', 'game', 'user_score')\n",
    "\n",
    "# Compute similarity matrix\n",
    "similarity_matrix = compute_similarity(user_item_matrix)\n",
    "\n",
    "# Recommend items for a specific user\n",
    "user = 'user_id_example'  # Replace with an actual user ID from your dataset\n",
    "recommendations = recommend_items(similarity_matrix, user_item_matrix, user)\n",
    "print(recommendations)"
   ]
  }
 ],
 "metadata": {
  "kernelspec": {
   "display_name": ".venv",
   "language": "python",
   "name": "python3"
  },
  "language_info": {
   "codemirror_mode": {
    "name": "ipython",
    "version": 3
   },
   "file_extension": ".py",
   "mimetype": "text/x-python",
   "name": "python",
   "nbconvert_exporter": "python",
   "pygments_lexer": "ipython3",
   "version": "3.12.3"
  }
 },
 "nbformat": 4,
 "nbformat_minor": 2
}
